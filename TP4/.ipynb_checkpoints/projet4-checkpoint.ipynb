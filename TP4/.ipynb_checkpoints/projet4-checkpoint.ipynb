{
 "cells": [
  {
   "cell_type": "markdown",
   "metadata": {},
   "source": [
    "# Projet 4"
   ]
  },
  {
   "cell_type": "code",
   "execution_count": 1,
   "metadata": {},
   "outputs": [],
   "source": [
    "import requests\n",
    "from bs4 import BeautifulSoup\n",
    "from lxml import etree\n",
    "import pandas as pd\n",
    "import requests\n"
   ]
  },
  {
   "cell_type": "markdown",
   "metadata": {},
   "source": [
    "Ecrire une fonction `get_prices_from_url()` qui extrait des informations à partir des 2 pages ci-dessous.\n",
    "\n",
    "Exemple `URL_PAGE2` doit retourner :\n",
    "\n",
    "<pre>{'Personal': {'price': '$5', 'storage': '1GB', 'databases': 1},\n",
    "  'Small Business': {'price': '$25', 'storage': '10GB', 'databases': 5},\n",
    "  'Enterprise': {'price': '$45', 'storage': '100GB', 'databases': 25}}\n",
    "</pre>"
   ]
  },
  {
   "cell_type": "code",
   "execution_count": 2,
   "metadata": {},
   "outputs": [
    {
     "data": {
      "text/html": [
       "<div>\n",
       "<style scoped>\n",
       "    .dataframe tbody tr th:only-of-type {\n",
       "        vertical-align: middle;\n",
       "    }\n",
       "\n",
       "    .dataframe tbody tr th {\n",
       "        vertical-align: top;\n",
       "    }\n",
       "\n",
       "    .dataframe thead th {\n",
       "        text-align: right;\n",
       "    }\n",
       "</style>\n",
       "<table border=\"1\" class=\"dataframe\">\n",
       "  <thead>\n",
       "    <tr style=\"text-align: right;\">\n",
       "      <th></th>\n",
       "      <th>Personal</th>\n",
       "      <th>Small Business</th>\n",
       "      <th>Enterprise</th>\n",
       "      <th>Privilege</th>\n",
       "    </tr>\n",
       "  </thead>\n",
       "  <tbody>\n",
       "    <tr>\n",
       "      <th>price</th>\n",
       "      <td>$5</td>\n",
       "      <td>$25</td>\n",
       "      <td>$45</td>\n",
       "      <td>$99</td>\n",
       "    </tr>\n",
       "    <tr>\n",
       "      <th>storage</th>\n",
       "      <td>1GB</td>\n",
       "      <td>10GB</td>\n",
       "      <td>100GB</td>\n",
       "      <td>1TB</td>\n",
       "    </tr>\n",
       "    <tr>\n",
       "      <th>databases</th>\n",
       "      <td>1</td>\n",
       "      <td>5</td>\n",
       "      <td>25</td>\n",
       "      <td>100</td>\n",
       "    </tr>\n",
       "  </tbody>\n",
       "</table>\n",
       "</div>"
      ],
      "text/plain": [
       "          Personal Small Business Enterprise Privilege\n",
       "price           $5            $25        $45       $99\n",
       "storage        1GB           10GB      100GB       1TB\n",
       "databases        1              5         25       100"
      ]
     },
     "execution_count": 2,
     "metadata": {},
     "output_type": "execute_result"
    }
   ],
   "source": [
    "URL_PAGE2 = \"https://kim.fspot.org/cours/page2.html\"\n",
    "URL_PAGE3 = \"https://kim.fspot.org/cours/page3.html\"\n",
    "\n",
    "def get_prices_from_url(url):\n",
    "    \n",
    "    r = requests.get(url)\n",
    "    content = r.content.decode('utf-8')\n",
    "    soup = BeautifulSoup(content) \n",
    "    div_tag = soup.find_all('div', attrs = {'class' : 'pricing-table'})\n",
    "    \n",
    "    rows = {}\n",
    "    for div in div_tag : \n",
    "        row = {}\n",
    "        row[\"price\"] = str(div.find('span', attrs = {'class' : 'pricing-table-price'}).contents[0]).strip()\n",
    "        row[\"storage\"] = div.find('ul', attrs = {'class' : 'pricing-table-list'}).find_all('li')[3].text.split()[0]\n",
    "        row[\"databases\"] = int(div.find('ul', attrs = {'class' : 'pricing-table-list'}).find_all('li')[4].text.split()[0])\n",
    "        plan = div.find('h2').text\n",
    "        rows[plan] = row\n",
    "    \n",
    "    prices = {}\n",
    "    return rows\n",
    "\n",
    "res = pd.DataFrame(get_prices_from_url(URL_PAGE3))\n",
    "res"
   ]
  },
  {
   "cell_type": "markdown",
   "metadata": {},
   "source": [
    "Ecrire une fonction qui extrait des informations sur une bière de beowulf.\n",
    "\n",
    "Exemple d'URL: https://www.beerwulf.com/fr-fr/p/bieres/melusine-bio.33 \n",
    "\n",
    "La fonction doit retourner :\n",
    "<pre>\n",
    "{'name': 'Mélusine Bio', 'note': 70, 'price': 38.99, 'volume': 33}\n",
    "</pre>"
   ]
  },
  {
   "cell_type": "code",
   "execution_count": 3,
   "metadata": {},
   "outputs": [
    {
     "data": {
      "text/plain": [
       "'Mélusine Bio'"
      ]
     },
     "execution_count": 3,
     "metadata": {},
     "output_type": "execute_result"
    }
   ],
   "source": [
    "url_melusine = r'https://www.beerwulf.com/fr-fr/p/bieres/melusine-bio.33'\n",
    "r = requests.get(url_melusine)\n",
    "content = r.content.decode('utf-8')\n",
    "soup = BeautifulSoup(content)\n",
    "\n",
    "soup.find('div' , attrs = {'class' : 'product-detail-info-title'}).find(\"h1\").text\n"
   ]
  },
  {
   "cell_type": "code",
   "execution_count": 4,
   "metadata": {},
   "outputs": [
    {
     "name": "stdout",
     "output_type": "stream",
     "text": [
      "done\n"
     ]
    },
    {
     "data": {
      "text/plain": [
       "{'name': 'Mélusine Bio', 'note': 3.29, 'price': 38.99, 'volume': 33}"
      ]
     },
     "execution_count": 4,
     "metadata": {},
     "output_type": "execute_result"
    }
   ],
   "source": [
    "def extract_beer_infos(url):\n",
    "    infos = {\n",
    "        'name': None,\n",
    "        'note': None,\n",
    "        'price': None,\n",
    "        'volume': None,\n",
    "    }\n",
    "    r = requests.get(url)\n",
    "    content = r.content.decode('utf-8')\n",
    "    soup = BeautifulSoup(content)\n",
    "    infos['name'] = soup.find('div' , attrs = {'class' : 'product-detail-info-title'}).find(\"h1\").text\n",
    "    infos['note'] = float(soup.find('span' , attrs = {'class' : 'label-stars'}).text.replace('(','').replace(')','').replace(',','.'))\n",
    "    infos['price'] = float(soup.find('span' , attrs = {'class' : 'price'}).text.replace(',','.').split()[0])\n",
    "    infos['volume'] = int(soup.find('dd' , attrs = {'class' : 'small-6'}).find_next_sibling(\"dd\").text.split()[0])\n",
    "    print('done')\n",
    "    return infos\n",
    "\n",
    "\n",
    "url_melusine = r'https://www.beerwulf.com/fr-fr/p/bieres/melusine-bio.33'\n",
    "extract_beer_infos(url_melusine)\n",
    "# product-detail-info-title"
   ]
  },
  {
   "cell_type": "markdown",
   "metadata": {},
   "source": [
    "Cette URL retourne un JSON avec une liste de bières :"
   ]
  },
  {
   "cell_type": "code",
   "execution_count": 5,
   "metadata": {},
   "outputs": [],
   "source": [
    "URL_BEERLIST_FRANCE = \"https://www.beerwulf.com/fr-FR/api/search/searchProducts?country=France&container=Bouteille\""
   ]
  },
  {
   "cell_type": "markdown",
   "metadata": {},
   "source": [
    "Ecrire une fonction qui prend l'argument cet URL retourne les informations sur une liste de bière via l'API de beowulf.\n",
    "\n",
    "Cette fonction doit retourner la liste des informations obtenues par la fonction `extract_beer_infos()` définie ci-dessus.\n",
    "\n",
    "Chercher comment optimiser cette fonction en utilisant multiprocessing.Pool pour paralléliser les accès web.\n",
    "\n",
    "Exemple de retour :\n",
    "\n",
    "<pre>[{'name': 'Gallia East IPA', 'note': 80, 'price': 42.99, 'volume': 33},\n",
    "    {'name': 'La Lager Sans Gluten de Vézelay', 'note': 60, 'price': 38.99, 'volume': 25},\n",
    "    {'name': 'Brasserie De Sutter Brin de Folie', 'note': 70, 'price': 44.99, 'volume': 33},\n",
    "    {'name': 'La Cristal IPA du Mont Blanc', 'note': 70, 'price': 44.99, 'volume': 33},\n",
    "    {'name': 'Mélusine Bio', 'note': 70, 'price': 38.99, 'volume': 33},\n",
    "    {'name': 'La Parisienne Le Titi Parisien', 'note': 70, 'price': 38.99, 'volume': 33},\n",
    "    {'name': 'Gallia Session IPA', 'note': 70, 'price': 42.99, 'volume': 33},\n",
    "    {'name': 'Ninkasi Brut IPA', 'note': 70, 'price': 44.99, 'volume': 33},\n",
    "    {'name': 'Pietra', 'note': 60, 'price': 38.99, 'volume': 33},\n",
    "    {'name': 'Desperados', 'note': 60, 'price': 35.99, 'volume': 33},\n",
    "    {'name': 'Gallia West IPA', 'note': 70, 'price': 42.99, 'volume': 33}]\n",
    "</pre>"
   ]
  },
  {
   "cell_type": "code",
   "execution_count": 6,
   "metadata": {},
   "outputs": [
    {
     "data": {
      "text/plain": [
       "{'title': 'Gallia East IPA',\n",
       " 'description': '',\n",
       " 'images': [{'image': '/globalassets/gallia-east-ipabottle.33_15073_0.png',\n",
       "   'badge': {'url': '/', 'alt': None, 'title': None},\n",
       "   'name': None}],\n",
       " 'contentReference': '/fr-fr/p/bieres/gallia-east-ipa-bottle-.33',\n",
       " 'redirectedUrl': None,\n",
       " 'details': 'IPA | 6,0% | 33 cl',\n",
       " 'worksWithLabel': None,\n",
       " 'productIcon': None,\n",
       " 'searchItemType': 0,\n",
       " 'promotedPages': [],\n",
       " 'code': 'Gallia-East-IPABottle.33_15073',\n",
       " 'inStock': True,\n",
       " 'isComingSoon': False,\n",
       " 'isBottleOrCan': True,\n",
       " 'inReserveStock': True,\n",
       " 'style': 'IPA',\n",
       " 'alcoholPercentage': 6.0,\n",
       " 'volume': 33.0,\n",
       " 'displayInformationPrice': {'currency': '€',\n",
       "  'price': '3,09 €',\n",
       "  'filterPrice': 3.09,\n",
       "  'fromPrice': None,\n",
       "  'discountPrice': None,\n",
       "  'discountPercentage': '0',\n",
       "  'valueIndicator': None,\n",
       "  'pricePerLiter': '9,36 €',\n",
       "  'depositMoney': None,\n",
       "  'displayDepositMoneyAndPricePerLiter': False,\n",
       "  'hasDiscount': False,\n",
       "  'vatPercentage': '20%'},\n",
       " 'amountInCart': 0,\n",
       " 'isInWishlist': False,\n",
       " 'containerType': 'Bottle',\n",
       " 'includesFreeItem': False,\n",
       " 'freeItemIcon': None}"
      ]
     },
     "execution_count": 6,
     "metadata": {},
     "output_type": "execute_result"
    }
   ],
   "source": [
    "r = requests.get(URL_BEERLIST_FRANCE)\n",
    "r.json()['items'][0]"
   ]
  },
  {
   "cell_type": "code",
   "execution_count": 7,
   "metadata": {
    "scrolled": true
   },
   "outputs": [
    {
     "name": "stdout",
     "output_type": "stream",
     "text": [
      "done\n",
      "done\n",
      "done\n",
      "done\n",
      "done\n",
      "done\n",
      "done\n",
      "done\n",
      "done\n",
      "done\n",
      "done\n"
     ]
    },
    {
     "data": {
      "text/plain": [
       "[{'name': 'Gallia East IPA', 'note': 3.8, 'price': 42.99, 'volume': 33},\n",
       " {'name': 'La Lager Sans Gluten de Vézelay',\n",
       "  'note': 2.78,\n",
       "  'price': 38.99,\n",
       "  'volume': 25},\n",
       " {'name': 'Brasserie De Sutter Brin de Folie',\n",
       "  'note': 3.42,\n",
       "  'price': 44.99,\n",
       "  'volume': 33},\n",
       " {'name': 'La Cristal IPA du Mont Blanc',\n",
       "  'note': 3.44,\n",
       "  'price': 44.99,\n",
       "  'volume': 33},\n",
       " {'name': 'Mélusine Bio', 'note': 3.29, 'price': 38.99, 'volume': 33},\n",
       " {'name': 'La Parisienne Le Titi Parisien',\n",
       "  'note': 3.5,\n",
       "  'price': 38.99,\n",
       "  'volume': 33},\n",
       " {'name': 'Gallia Session IPA', 'note': 3.61, 'price': 42.99, 'volume': 33},\n",
       " {'name': 'Ninkasi Brut IPA', 'note': 3.36, 'price': 44.99, 'volume': 33},\n",
       " {'name': 'Pietra', 'note': 3.17, 'price': 38.99, 'volume': 33},\n",
       " {'name': 'Desperados', 'note': 3.15, 'price': 35.99, 'volume': 33},\n",
       " {'name': 'Gallia West IPA', 'note': 3.56, 'price': 42.99, 'volume': 33}]"
      ]
     },
     "execution_count": 7,
     "metadata": {},
     "output_type": "execute_result"
    }
   ],
   "source": [
    "def extract_beer_list_infos(url):\n",
    "    # Collecter les pages de bières à partir du JSON\n",
    "    beer_pages = []\n",
    "    r = requests.get(URL_BEERLIST_FRANCE)\n",
    "    for i, page in enumerate(r.json()['items']):\n",
    "        beer_pages.append('https://www.beerwulf.com'+page['contentReference'])\n",
    "    \n",
    "    # Sequential version (slow):\n",
    "    beers = []\n",
    "    for page in beer_pages:\n",
    "        beers.append(extract_beer_infos(page))\n",
    "    # Parallel version (faster):\n",
    "    # beers = []\n",
    "    return beers\n",
    "\n",
    "extract_beer_list_infos(URL_BEERLIST_FRANCE)"
   ]
  },
  {
   "cell_type": "code",
   "execution_count": 8,
   "metadata": {},
   "outputs": [],
   "source": [
    "from multiprocessing import Pool"
   ]
  },
  {
   "cell_type": "code",
   "execution_count": null,
   "metadata": {},
   "outputs": [],
   "source": [
    "# def extract_beer_list_infos2(url):\n",
    "#     # Collecter les pages de bières à partir du JSON\n",
    "#     beer_pages = []\n",
    "#     r = requests.get(URL_BEERLIST_FRANCE)\n",
    "#     for i, page in enumerate(r.json()['items']):\n",
    "#         beer_pages.append('https://www.beerwulf.com'+page['contentReference'])\n",
    "    \n",
    "# #     p = Pool(4)\n",
    "    \n",
    "# #     res = p.map(extract_beer_infos, beer_pages)\n",
    "    \n",
    "#     return beer_pages\n",
    "\n",
    "# beer_pages = extract_beer_list_infos(URL_BEERLIST_FRANCE)"
   ]
  },
  {
   "cell_type": "code",
   "execution_count": null,
   "metadata": {},
   "outputs": [],
   "source": [
    "# beers = []\n",
    "\n",
    "# with Pool() as pool:\n",
    "#     beers = pool.map(extract_beer_infos, beer_pages)"
   ]
  },
  {
   "cell_type": "code",
   "execution_count": 124,
   "metadata": {},
   "outputs": [],
   "source": [
    "import unittest\n",
    "\n",
    "class Lesson4Tests(unittest.TestCase):\n",
    "    def test_01_get_prices_from_url_page2(self):\n",
    "        prices = get_prices_from_url(URL_PAGE2)\n",
    "        # We should have found 3 products:\n",
    "        self.assertIsInstance(prices, dict)\n",
    "        self.assertEqual(len(prices), 3)\n",
    "        self.assertIn('Personal', prices)\n",
    "        self.assertIn('Small Business', prices)\n",
    "        self.assertIn('Enterprise', prices)\n",
    "        \n",
    "        personal = prices['Personal']\n",
    "        self.assertIn('price', personal)\n",
    "        self.assertIn('storage', personal)\n",
    "        self.assertIn('databases', personal)\n",
    "        self.assertEqual(personal['price'], '$5')\n",
    "        self.assertEqual(personal['storage'], '1GB')\n",
    "        self.assertEqual(personal['databases'], 1)\n",
    "        \n",
    "    def test_02_get_prices_from_url_page3(self):\n",
    "        prices = get_prices_from_url(URL_PAGE3)\n",
    "        self.assertIsInstance(prices, dict)\n",
    "        self.assertEqual(len(prices), 4)\n",
    "        self.assertEqual(\n",
    "            prices['Privilege'],\n",
    "            {'databases': 100, 'price': '$99', 'storage': '1TB'}\n",
    "        )\n",
    "    \n",
    "    def test_03_extract_beer_list_infos(self):\n",
    "        infos = extract_beer_list_infos(URL_BEERLIST_FRANCE)\n",
    "        # We should have 11 French beers:\n",
    "        self.assertIsInstance(infos, list)\n",
    "        self.assertEqual(len(infos), 11)\n",
    "        # All of them are 25cl or 33cl:\n",
    "        for beer in infos:\n",
    "            self.assertIn(beer['volume'], [25, 33])\n",
    "\n",
    "            \n",
    "def run_tests():\n",
    "    test_suite = unittest.makeSuite(Lesson4Tests)\n",
    "    runner = unittest.TextTestRunner(verbosity=2)\n",
    "    runner.run(test_suite)"
   ]
  },
  {
   "cell_type": "code",
   "execution_count": 125,
   "metadata": {},
   "outputs": [
    {
     "name": "stderr",
     "output_type": "stream",
     "text": [
      "test_01_get_prices_from_url_page2 (__main__.Lesson4Tests) ... ok\n",
      "test_02_get_prices_from_url_page3 (__main__.Lesson4Tests) ... ok\n",
      "test_03_extract_beer_list_infos (__main__.Lesson4Tests) ... ok\n",
      "\n",
      "----------------------------------------------------------------------\n",
      "Ran 3 tests in 3.298s\n",
      "\n",
      "OK\n"
     ]
    }
   ],
   "source": [
    "if __name__ == '__main__':\n",
    "    run_tests()"
   ]
  }
 ],
 "metadata": {
  "kernelspec": {
   "display_name": "Python 3",
   "language": "python",
   "name": "python3"
  },
  "language_info": {
   "codemirror_mode": {
    "name": "ipython",
    "version": 3
   },
   "file_extension": ".py",
   "mimetype": "text/x-python",
   "name": "python",
   "nbconvert_exporter": "python",
   "pygments_lexer": "ipython3",
   "version": "3.8.8"
  }
 },
 "nbformat": 4,
 "nbformat_minor": 4
}

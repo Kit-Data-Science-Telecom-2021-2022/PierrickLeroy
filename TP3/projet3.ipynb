{
 "cells": [
  {
   "cell_type": "markdown",
   "metadata": {},
   "source": [
    "# Projet maison n° 3"
   ]
  },
  {
   "cell_type": "code",
   "execution_count": 1,
   "metadata": {},
   "outputs": [],
   "source": [
    "# imports\n",
    "import pandas as pd\n",
    "import glob\n",
    "import re"
   ]
  },
  {
   "cell_type": "markdown",
   "metadata": {},
   "source": [
    "## 1. US baby names\n",
    "\n",
    "On va s'intéresser au dataset **National data** de la SSA : https://www.ssa.gov/oact/babynames/limits.html\n",
    "\n",
    "1. Télécharger le dataset des prénoms US : https://www.ssa.gov/oact/babynames/names.zip\n",
    "\n",
    "Lire la documentation associée.\n",
    "\n",
    "2. Implémenter une fonction Python qui produit un unique DataFrame avec tous les fichiers en utilisant pandas (par ex. fonction \"concat\" ou méthode \"append\"), pas de bash :)\n",
    "\n",
    "Ordre et noms des colonnes : 'year', 'name', 'gender', 'births'\n",
    "\n",
    "Le DataFrame doit être trié selon l'année croissante puis selon l'ordre défini par les différents fichiers (voir la documentation du dataset)."
   ]
  },
  {
   "cell_type": "code",
   "execution_count": 69,
   "metadata": {},
   "outputs": [],
   "source": [
    "# names us\n",
    "def df_names_us():\n",
    "    path = r\"C:\\Users\\Pierrick\\OneDrive\\Bureau\\K\\2_MS_TelecomParis\\Cours\\INFMDI721_Kit_Big_Data\\PierrickLeroy\\TP3\\names\\yob*.txt\"\n",
    "    cols = ['year', 'name', 'gender', 'births']\n",
    "    l_df = []\n",
    "    pattern = 'yob([\\d]{4}).txt'\n",
    "    for file in glob.glob(path):\n",
    "        df = pd.read_csv(file, sep=',', names = ['name', 'gender', 'births'] )\n",
    "        year = re.findall(pattern, file)[0]\n",
    "        df['year'] = year\n",
    "        df = df.astype({'year' : int, 'name' : str, 'gender' : str, 'births' : int})\n",
    "        l_df.append(df)\n",
    "    df_concat = pd.concat(l_df)[cols]\n",
    "    return df_concat.sort_values(by = ['year', 'gender', 'births', 'name'], ascending = [True, True, False, True]).reset_index(drop = True)"
   ]
  },
  {
   "cell_type": "markdown",
   "metadata": {},
   "source": [
    "## 2. Prénoms français"
   ]
  },
  {
   "cell_type": "markdown",
   "metadata": {},
   "source": [
    "On va s'intéresser au dataset **Fichiers France hors Mayotte** de l'INSEE :  https://www.insee.fr/fr/statistiques/2540004/\n",
    "\n",
    "L'idée est de charger les données et ensuite de les conformer au DataFrame des prénoms US. Ainsi, toute manipulation sur le DataFrame des prénoms US pourra être directement réutilisée avec le DataFrame des prénoms français.\n",
    " \n",
    "1. Télécharger le dataset des prénoms français : https://www.insee.fr/fr/statistiques/fichier/2540004/nat2020_csv.zip\n",
    "\n",
    "\n",
    "Lire la documentation, ça peut être utile...\n",
    " \n",
    "2. Implémenter une fonction Python qui produit un DataFrame avec les prénoms français en prenant le DataFrame des prénoms US comme modèle :\n",
    " \n",
    " - Même ordre et mêmes noms des colonnes : year, name, gender, births\n",
    " - Mêmes dtypes pour les colonnes\n",
    " - Mêmes valeurs pour la colonne 'gender'\n",
    " - Seuls les prénoms de 2 caractères et plus sont conservés\n",
    " - La casse des prénoms doit être identique : initiales en majuscule, autres lettres en minuscule\n",
    " - Les lignes avec des données inutilisables doivent être supprimées\n",
    " - Les données sont triées à l'identique : années (↑), puis gender (↑), puis births (↓) et enfin name (↑)\n",
    " - L'index du DataFrame doit aller de 0 à N-1"
   ]
  },
  {
   "cell_type": "code",
   "execution_count": 220,
   "metadata": {},
   "outputs": [],
   "source": [
    "# names fr\n",
    "def df_names_fr():\n",
    "    df = pd.read_csv(r\"C:\\Users\\Pierrick\\OneDrive\\Bureau\\K\\2_MS_TelecomParis\\Cours\\INFMDI721_Kit_Big_Data\\PierrickLeroy\\TP3\\nat2020_csv\\nat2020.csv\", sep=';'\n",
    "                    , keep_default_na = False)\n",
    "    df.columns = ['gender', 'name', 'year', 'births']\n",
    "    df = df[['year', 'name', 'gender', 'births']]\n",
    "    df['gender'] = df['gender'].map({2 : 'F', 1 : 'M'})\n",
    "    df = df[df['name'].str.len()>=2]\n",
    "    df['name'] = df['name'].str.capitalize()\n",
    "    df['year'] = pd.to_numeric(df['year'], errors = 'coerce')\n",
    "    df = df.dropna(subset = ['year'])\n",
    "    df = df.astype({'year' : int, 'name' : str, 'gender' : str, 'births' : int})\n",
    "    df = df[df['name'].str.len()>=2]\n",
    "    df = df[df['name']!='_prenoms_rares']\n",
    "    df = df.sort_values(by = ['year', 'gender', 'births', 'name'], ascending = [True, False, False, True])\n",
    "    df = df.reset_index(drop=True)\n",
    "    return df"
   ]
  },
  {
   "cell_type": "markdown",
   "metadata": {},
   "source": [
    "## 3. Taux de change"
   ]
  },
  {
   "cell_type": "markdown",
   "metadata": {},
   "source": [
    "On va s'intéresser au dataset des cours des devises de la Banque de France :  http://webstat.banque-france.fr/fr/#/downloading\n",
    "\n",
    "L'idée est de charger les données, de les nettoyer et de pouvoir accéder aux cours de certaines devises à partir de leur code ISO3.\n",
    " \n",
    "1. Utiliser le dataset des taux de change fourni.\n",
    "\n",
    "\n",
    "2. Implémenter une fonction qui produit un DataFrame avec les taux de change par date pour une liste de codes ISO3 de devises passée en argument. L'index du DataFrame doit correspondre aux dates (voir la fonction pd.to_datetime() avec le format '%d/%m/%Y'). Les colonnes du DataFrame doivent correspondre aux devises."
   ]
  },
  {
   "cell_type": "code",
   "execution_count": 348,
   "metadata": {},
   "outputs": [],
   "source": [
    "# taux de change\n",
    "def df_taux_change(devises):\n",
    "    df = pd.read_csv(r\"C:\\Users\\Pierrick\\OneDrive\\Bureau\\K\\2_MS_TelecomParis\\Cours\\INFMDI721_Kit_Big_Data\\PierrickLeroy\\TP3\\Webstat_Export_20210929.csv\"\n",
    "                    , sep = ';'\n",
    "                    , header = 0\n",
    "                    , skiprows = [i for i in range(1,6)])\n",
    "    \n",
    "    pattern = '\\(([A-Za-z0-9 ]*)\\)'\n",
    "    l = []\n",
    "    for col in df.columns:\n",
    "        res = re.findall(pattern, col)[0] if len(re.findall(pattern, col)) > 0 else col\n",
    "        l.append(res)\n",
    "    l[0] = 'Date'\n",
    "    df.columns = l\n",
    "    for col in list(df.columns[1:]):\n",
    "        df[col] = pd.to_numeric(df[col].str.replace(',','.'), errors = 'coerce')\n",
    "    \n",
    "    # Date : parser et mettre en index\n",
    "    df['Date'] = pd.to_datetime(df['Date'], format = '%d/%m/%Y')\n",
    "    df = df.set_index('Date')\n",
    "    return df[devises].dropna()"
   ]
  },
  {
   "cell_type": "code",
   "execution_count": 351,
   "metadata": {
    "scrolled": true
   },
   "outputs": [
    {
     "data": {
      "text/plain": [
       "1.6523"
      ]
     },
     "execution_count": 351,
     "metadata": {},
     "output_type": "execute_result"
    }
   ],
   "source": [
    "pd.to_numeric('1.6523')"
   ]
  },
  {
   "cell_type": "code",
   "execution_count": 352,
   "metadata": {
    "scrolled": false
   },
   "outputs": [
    {
     "data": {
      "text/html": [
       "<div>\n",
       "<style scoped>\n",
       "    .dataframe tbody tr th:only-of-type {\n",
       "        vertical-align: middle;\n",
       "    }\n",
       "\n",
       "    .dataframe tbody tr th {\n",
       "        vertical-align: top;\n",
       "    }\n",
       "\n",
       "    .dataframe thead th {\n",
       "        text-align: right;\n",
       "    }\n",
       "</style>\n",
       "<table border=\"1\" class=\"dataframe\">\n",
       "  <thead>\n",
       "    <tr style=\"text-align: right;\">\n",
       "      <th></th>\n",
       "      <th>AUD</th>\n",
       "      <th>BGN</th>\n",
       "    </tr>\n",
       "    <tr>\n",
       "      <th>Date</th>\n",
       "      <th></th>\n",
       "      <th></th>\n",
       "    </tr>\n",
       "  </thead>\n",
       "  <tbody>\n",
       "    <tr>\n",
       "      <th>2021-09-28</th>\n",
       "      <td>1.6115</td>\n",
       "      <td>1.9558</td>\n",
       "    </tr>\n",
       "    <tr>\n",
       "      <th>2021-09-27</th>\n",
       "      <td>1.6129</td>\n",
       "      <td>1.9558</td>\n",
       "    </tr>\n",
       "    <tr>\n",
       "      <th>2021-09-24</th>\n",
       "      <td>1.6165</td>\n",
       "      <td>1.9558</td>\n",
       "    </tr>\n",
       "    <tr>\n",
       "      <th>2021-09-23</th>\n",
       "      <td>1.6110</td>\n",
       "      <td>1.9558</td>\n",
       "    </tr>\n",
       "    <tr>\n",
       "      <th>2021-09-22</th>\n",
       "      <td>1.6178</td>\n",
       "      <td>1.9558</td>\n",
       "    </tr>\n",
       "    <tr>\n",
       "      <th>...</th>\n",
       "      <td>...</td>\n",
       "      <td>...</td>\n",
       "    </tr>\n",
       "    <tr>\n",
       "      <th>2000-07-25</th>\n",
       "      <td>1.6072</td>\n",
       "      <td>1.9462</td>\n",
       "    </tr>\n",
       "    <tr>\n",
       "      <th>2000-07-24</th>\n",
       "      <td>1.5905</td>\n",
       "      <td>1.9464</td>\n",
       "    </tr>\n",
       "    <tr>\n",
       "      <th>2000-07-21</th>\n",
       "      <td>1.5945</td>\n",
       "      <td>1.9465</td>\n",
       "    </tr>\n",
       "    <tr>\n",
       "      <th>2000-07-20</th>\n",
       "      <td>1.5951</td>\n",
       "      <td>1.9468</td>\n",
       "    </tr>\n",
       "    <tr>\n",
       "      <th>2000-07-19</th>\n",
       "      <td>1.5920</td>\n",
       "      <td>1.9469</td>\n",
       "    </tr>\n",
       "  </tbody>\n",
       "</table>\n",
       "<p>5424 rows × 2 columns</p>\n",
       "</div>"
      ],
      "text/plain": [
       "               AUD     BGN\n",
       "Date                      \n",
       "2021-09-28  1.6115  1.9558\n",
       "2021-09-27  1.6129  1.9558\n",
       "2021-09-24  1.6165  1.9558\n",
       "2021-09-23  1.6110  1.9558\n",
       "2021-09-22  1.6178  1.9558\n",
       "...            ...     ...\n",
       "2000-07-25  1.6072  1.9462\n",
       "2000-07-24  1.5905  1.9464\n",
       "2000-07-21  1.5945  1.9465\n",
       "2000-07-20  1.5951  1.9468\n",
       "2000-07-19  1.5920  1.9469\n",
       "\n",
       "[5424 rows x 2 columns]"
      ]
     },
     "execution_count": 352,
     "metadata": {},
     "output_type": "execute_result"
    }
   ],
   "source": [
    "df_devise_test = df_taux_change(['AUD', 'BGN'])\n",
    "df_devise_test"
   ]
  },
  {
   "cell_type": "markdown",
   "metadata": {},
   "source": [
    "### Tests"
   ]
  },
  {
   "cell_type": "code",
   "execution_count": 353,
   "metadata": {},
   "outputs": [],
   "source": [
    "import unittest\n",
    "\n",
    "class Lesson4Tests(unittest.TestCase):\n",
    "    def test_df_names_us(self):\n",
    "        df = df_names_us()\n",
    "        # colonnes\n",
    "        self.assertEqual(list(df.columns), ['year', 'name', 'gender', 'births'])\n",
    "        # lignes\n",
    "        self.assertEqual(len(df), 2020863)\n",
    "        # index\n",
    "        self.assertTrue(isinstance(df.index, pd.core.indexes.range.RangeIndex))\n",
    "        # test NaN\n",
    "        self.assertTrue(df.loc[df.isnull().any(axis=1)].empty)\n",
    "        \n",
    "    def test_df_names_fr(self):\n",
    "        df = df_names_fr()\n",
    "        # colonnes\n",
    "        self.assertEqual(list(df.columns), ['year', 'name', 'gender', 'births'])\n",
    "#         # lignes\n",
    "        self.assertEqual(len(df), 630407)\n",
    "#         # index\n",
    "        self.assertTrue(isinstance(df.index, pd.core.indexes.range.RangeIndex))\n",
    "#         # test names\n",
    "        self.assertTrue(df.loc[df['name'].str.contains('^[A-Z]+(?:-[A-Z]+)?$')].empty)\n",
    "#         # test gender\n",
    "        self.assertEqual(len(df), len(df.loc[df['gender']=='F']) + len(df.loc[df['gender']=='M']))\n",
    "#         # test NaN\n",
    "        self.assertTrue(df.loc[df.isnull().any(axis=1)].empty)\n",
    "\n",
    "    def test_df_taux_change(self):\n",
    "        df = df_taux_change(['CHF', 'GBP', 'USD'])\n",
    "        # colonnes\n",
    "        self.assertEqual(list(df.columns), ['CHF', 'GBP', 'USD'])\n",
    "        # index\n",
    "        self.assertTrue(isinstance(df.index, pd.core.indexes.datetimes.DatetimeIndex))\n",
    "        # types taux\n",
    "        self.assertTrue((df.dtypes == 'float').all())\n",
    "        # test NaN\n",
    "        self.assertTrue(df.loc[df.isnull().any(axis=1)].empty)\n"
   ]
  },
  {
   "cell_type": "code",
   "execution_count": 354,
   "metadata": {},
   "outputs": [],
   "source": [
    "# run tests\n",
    "def run_tests():\n",
    "    test_suite = unittest.makeSuite(Lesson4Tests)\n",
    "    runner = unittest.TextTestRunner(verbosity=2)\n",
    "    runner.run(test_suite)"
   ]
  },
  {
   "cell_type": "code",
   "execution_count": 355,
   "metadata": {},
   "outputs": [
    {
     "name": "stderr",
     "output_type": "stream",
     "text": [
      "test_df_names_fr (__main__.Lesson4Tests) ... ok\n",
      "test_df_names_us (__main__.Lesson4Tests) ... ok\n",
      "test_df_taux_change (__main__.Lesson4Tests) ... ok\n",
      "\n",
      "----------------------------------------------------------------------\n",
      "Ran 3 tests in 8.237s\n",
      "\n",
      "OK\n"
     ]
    }
   ],
   "source": [
    "# run tests\n",
    "\n",
    "run_tests()"
   ]
  }
 ],
 "metadata": {
  "kernelspec": {
   "display_name": "Kit_Start_Data",
   "language": "python",
   "name": "kit_start_data"
  },
  "language_info": {
   "codemirror_mode": {
    "name": "ipython",
    "version": 3
   },
   "file_extension": ".py",
   "mimetype": "text/x-python",
   "name": "python",
   "nbconvert_exporter": "python",
   "pygments_lexer": "ipython3",
   "version": "3.8.8"
  }
 },
 "nbformat": 4,
 "nbformat_minor": 4
}
